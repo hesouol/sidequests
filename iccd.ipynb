{
 "cells": [
  {
   "cell_type": "code",
   "execution_count": 18,
   "metadata": {
    "collapsed": true
   },
   "outputs": [],
   "source": [
    "import pandas as pd\n",
    "\n",
    "movs = pd.read_csv(\"./data/movimento.csv\")\n",
    "poss = pd.read_csv(\"./data/posicao.csv\")\n",
    "\n",
    "def tipo_ativo(ativo: str) -> str:\n",
    "    dict = {\n",
    "    \"Cambial Dolar Votorantim\": \"CAMBIAL\",\n",
    "    \"PETR4\": \"ACOES\",\n",
    "    \"BOVA11\": \"ACOES\",\n",
    "    \"Nubank\": \"FIXA\",\n",
    "    \"Forpus\": \"ACOES\",\n",
    "    \"SMAL11\": \"ACOES\",\n",
    "    \"THRA11 \": \"FII\",\n",
    "    \"PIBB11 \": \"ACOES\",\n",
    "    \"DIVO11 \": \"ACOES\",\n",
    "    \"BOVA11 \": \"ACOES\",\n",
    "    \"BRAX11\": \"ACOES\",\n",
    "    \"SBSP3\": \"ACOES\",\n",
    "    \"BBRC11\": \"FII\",\n",
    "    \"HGCR11 \": \"FII\",\n",
    "    \"Previdencia Icatu\": \"ACOES\",\n",
    "    \"JSRE11 \": \"FII\",\n",
    "    \"Trend Ouro FIM\": \"CAMBIAL\",\n",
    "    \"IPCA\": \"FIXA\",\n",
    "    \"Occam Retorno Absoluto\": \"ACOES\",\n",
    "    \"Previdencia Itau\": \"FIXA\",\n",
    "    \"Pre 2021\": \"FIXA\",\n",
    "    \"Selic 2021\": \"FIXA\",\n",
    "    \"USD\": \"CAMBIAL\",\n",
    "    \"Cambial\": \"CAMBIAL\",\n",
    "    \"Func DI\": \"FIXA\",\n",
    "    \"RPAD3\": \"ACOES\"\n",
    "    }\n",
    "\n",
    "    return dict.get(ativo.strip(), \"MISSING\")"
   ]
  },
  {
   "cell_type": "code",
   "execution_count": null,
   "outputs": [],
   "source": [
    "\n",
    "\n"
   ],
   "metadata": {
    "collapsed": false,
    "pycharm": {
     "name": "#%%\n"
    }
   }
  },
  {
   "cell_type": "code",
   "execution_count": null,
   "outputs": [],
   "source": [
    "\n"
   ],
   "metadata": {
    "collapsed": false,
    "pycharm": {
     "name": "#%%\n"
    }
   }
  }
 ],
 "metadata": {
  "kernelspec": {
   "display_name": "Python 3",
   "language": "python",
   "name": "python3"
  },
  "language_info": {
   "codemirror_mode": {
    "name": "ipython",
    "version": 2
   },
   "file_extension": ".py",
   "mimetype": "text/x-python",
   "name": "python",
   "nbconvert_exporter": "python",
   "pygments_lexer": "ipython2",
   "version": "2.7.6"
  }
 },
 "nbformat": 4,
 "nbformat_minor": 0
}